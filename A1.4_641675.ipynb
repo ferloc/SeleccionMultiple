{
 "cells": [
  {
   "cell_type": "markdown",
   "id": "582122c5-c39d-414e-a28d-3dff40e057cd",
   "metadata": {},
   "source": [
    "# ( A1.4 Selección de características)         \n",
    "                                                                                                       \n",
    "                                                                            Fernando Ariel Lozano Castillo\n",
    "1. Primero importaremos los datos del archivo **Vino Tinto.csv**  en la variable `df` y  revisaremos las dimensiones del data frame e imprimiremos en consola tanto dichas dimensiones  con la función `shape`como las primeras 5 filas\n",
    "de datos con la función `head`.                                                          "
   ]
  },
  {
   "cell_type": "code",
   "execution_count": 541,
   "id": "6222938d-88c3-4635-a3d7-948108afedfb",
   "metadata": {},
   "outputs": [
    {
     "name": "stdout",
     "output_type": "stream",
     "text": [
      "Dimensiones : (1599, 12) \n",
      "\n",
      "   acidezFija  acidezVolatil  acidoCitrico  azucarResidual  cloruros  \\\n",
      "0         7.4           0.70          0.00             1.9     0.076   \n",
      "1         7.8           0.88          0.00             2.6     0.098   \n",
      "2         7.8           0.76          0.04             2.3     0.092   \n",
      "3        11.2           0.28          0.56             1.9     0.075   \n",
      "4         7.4           0.70          0.00             1.9     0.076   \n",
      "\n",
      "   dioxidoAzufreLibre  dioxidoAzufreTotal  densidad    pH  sulfatos  alcohol  \\\n",
      "0                11.0                34.0    0.9978  3.51      0.56      9.4   \n",
      "1                25.0                67.0    0.9968  3.20      0.68      9.8   \n",
      "2                15.0                54.0    0.9970  3.26      0.65      9.8   \n",
      "3                17.0                60.0    0.9980  3.16      0.58      9.8   \n",
      "4                11.0                34.0    0.9978  3.51      0.56      9.4   \n",
      "\n",
      "   calidad  \n",
      "0        5  \n",
      "1        5  \n",
      "2        5  \n",
      "3        6  \n",
      "4        5  \n"
     ]
    }
   ],
   "source": [
    "import pandas as pd\n",
    "import numpy as np\n",
    "from sklearn.linear_model import LinearRegression\n",
    "from mlxtend.feature_selection import SequentialFeatureSelector as SFS\n",
    "import warnings\n",
    "from sklearn.model_selection import train_test_split\n",
    "from sklearn.metrics import r2_score\n",
    "\n",
    "\n",
    "# Suprimir la advertencia\n",
    "warnings.filterwarnings(\"ignore\", category=FutureWarning)\n",
    "\n",
    "# Leemos el archivo\n",
    "df = pd.read_csv(\"Vino Tinto.csv\")\n",
    "print(\"Dimensiones :\", df.shape , \"\\n\")\n",
    "\n",
    "# Imprimimos las primeras 5 filas\n",
    "print(df.head(5))"
   ]
  },
  {
   "cell_type": "markdown",
   "id": "9fdd2416-593a-4b56-92f8-a3d3473ed460",
   "metadata": {},
   "source": [
    "2. Ahora separaremos el data frame en **datos de entrenamiento** dentro de la variable `train` y **datos de prueba** en la variable `test` con una proporción de *80/20*. Es decir que ***80% para entrenar*** el modelo y el ***resto para validar los resultados*** con una partición aleatoria con el operador `sample` de pandas y el operador `drop` e `index`  para generar a `test` sin los elementos usados para el subset de entrenamiento."
   ]
  },
  {
   "cell_type": "code",
   "execution_count": 499,
   "id": "0dfdf24d-2f06-4b10-a67f-4d8dec1b14a0",
   "metadata": {},
   "outputs": [
    {
     "name": "stdout",
     "output_type": "stream",
     "text": [
      "Dimensiones de Train:  (1279, 12)\n",
      "Dimensiones de Test:  (320, 12)\n",
      " \n"
     ]
    }
   ],
   "source": [
    "\n",
    "\n",
    "train, test = train_test_split(df, train_size = 0.8)\n",
    "\n",
    "#Imprime las dimensiones de los datos de entrenamiento\n",
    "print(\"Dimensiones de Train: \",train.shape)\n",
    "\n",
    "#Imprime las dimensiones de los datos de prueba\n",
    "print(\"Dimensiones de Test: \", test.shape)\n",
    "\n",
    "print(\" \")"
   ]
  },
  {
   "cell_type": "markdown",
   "id": "f40f141b-9261-4308-a987-0d5bdaa0ebc8",
   "metadata": {},
   "source": [
    "Posteriormente, imprimiremos la cantidad de observaciones de cada conjunto de datos y comprobamos  si la suma de elementos en train y test es igual a la del dataset original."
   ]
  },
  {
   "cell_type": "code",
   "execution_count": 502,
   "id": "2749e784-b3af-4267-9daa-f9d292e6b07f",
   "metadata": {},
   "outputs": [
    {
     "name": "stdout",
     "output_type": "stream",
     "text": [
      " La división de los datos es correcta.\n"
     ]
    }
   ],
   "source": [
    "if (train.shape[0] + test.shape[0] == df.shape[0]):\n",
    " print(\" La división de los datos es correcta.\")\n",
    "else:\n",
    " print(\" Hay una discrepancia en la división de los datos.\",\"/n\")"
   ]
  },
  {
   "cell_type": "markdown",
   "id": "359ae0ba-11a1-418f-9e32-a19f217f54dd",
   "metadata": {},
   "source": [
    "3. **Generamos** la metodología de **selección hacia adelante** e imprime en consola los índices o  los nombres de las características seleccionadas. Para realizar este proceso, \n",
    "usaremos la función `“SequentialFeatureSelector”` de la librería \n",
    "`“mlxtend.feature_selection”`.\n",
    "Aquí dejo una descripción de los \n",
    "parámetros que se usaron:<br>\n",
    "- **a. estimator**: Un modelo de regresión lineal. Te recomiendo usar la función `LinearRegression` de la librería `sklearn.linear_model`.  \n",
    "- **b. k_features**: Se puede seleccionar la cantidad de variables de salida que se desean, pero te recomiendo mejor usar un rango, y que el algoritmo determine el número adecuado. Por ejemplo, puedes definir el parámetro como `(2, 8)`, si te interesa que el método seleccione entre 2 y 8 variables.  \n",
    "- **c. forward**: Determina si se hace selección hacia adelante (`True`) o hacia atrás (`False`); en este caso queremos hacer selección hacia adelante.  \n",
    "- **d. scoring**: La métrica que se usará para determinar si un modelo es mejor que otro. Te recomiendo definirla como `'r2'` para usar la R cuadrada.  \n",
    "- **e. cv**: Si se desea realizar validación cruzada, y cuántas instancias de la misma. Te recomiendo definir este parámetro como `10`.  "
   ]
  },
  {
   "cell_type": "code",
   "execution_count": 539,
   "id": "906387a2-bdf8-4a25-8c12-4a4671402b1b",
   "metadata": {},
   "outputs": [
    {
     "name": "stdout",
     "output_type": "stream",
     "text": [
      "Variables selecionadas: \n",
      " ['acidezVolatil', 'cloruros', 'dioxidoAzufreLibre', 'dioxidoAzufreTotal', 'pH', 'sulfatos', 'alcohol']\n"
     ]
    }
   ],
   "source": [
    "\n",
    "#Separa los datos en x y y de la serie de datos de entrenamiento\n",
    "x_train = train.drop(\"calidad\", axis= 1)\n",
    "y_train = train[\"calidad\"]\n",
    "\n",
    "\n",
    "#modelo de regresion lineal\n",
    "model = LinearRegression()\n",
    "\n",
    "#caracteristicas del modelo de sequential future selector\n",
    "sfs = SFS(model, k_features= (2,8), forward=True, scoring= 'r2', cv = 10 )\n",
    "\n",
    "sfs.fit(x_train,y_train)\n",
    "\n",
    "\n",
    "features = list(sfs.k_feature_names_)\n",
    "print(\"Variables selecionadas: \\n\", features)"
   ]
  },
  {
   "cell_type": "markdown",
   "id": "6c0601f4-f59e-4dd1-b884-ab6067967b7a",
   "metadata": {},
   "source": [
    "4. Entrenamos un modelo que solamente contenga las variables seleccionadas, predecir la \n",
    "respuesta en las observaciones de prueba y medir la capacidad de predicción del modelo \n",
    "usando la **R cuadrada**, posteriormente imprimiendo dicho valor en consola.<br>\n",
    "- Para el primer paso, \n",
    "simplemente, usaremos la función `fit `en el modelo de **regresión lineal creado \n",
    "previamente**, asegurándonos de no introducir toda la información de X, sino solo de las \n",
    "variables seleccionadas.<br>\n",
    "- Para **realizar las predicciones**,  usaremos la función `predict` en \n",
    "los datos de prueba, para dichos datos también seleccionaremos solo las \n",
    "variables de interés.<br>\n",
    "- Para el último paso, usaremos la función `r2_score de \n",
    "sklearn.metrics.` "
   ]
  },
  {
   "cell_type": "code",
   "execution_count": 531,
   "id": "1d574ad6-e739-47d0-a9f3-12b6643d6f30",
   "metadata": {},
   "outputs": [
    {
     "name": "stdout",
     "output_type": "stream",
     "text": [
      "R^2 = 0.3774037891991848\n"
     ]
    }
   ],
   "source": [
    "\n",
    "y_test = test.calidad\n",
    "x_test = test.drop(\"calidad\", axis = 1)\n",
    "\n",
    "x_trainF = x_train[features]\n",
    "x_testF = x_test[features]\n",
    "\n",
    "model.fit(x_trainF , y_train)\n",
    "\n",
    "ypredict = model.predict(x_testF)\n",
    "\n",
    "r2_forward = r2_score(y_test , ypredict)\n",
    "print(\"R^2 =\", r2_forward)"
   ]
  },
  {
   "cell_type": "markdown",
   "id": "f7d20a9b-533c-409d-ac83-477c75a09161",
   "metadata": {},
   "source": [
    "5. Realizaremos ahora un proceso de **selección hacia atrás** a partir de las variables seleccionadas por el método de selección hacia adelante e imprimiremos en consola los índices o nombres de las \n",
    "variables seleccionadas.<br> Para realizar este proceso, usaremos la misma función \n",
    "del paso 3, pero definiendo ahora `forward=False.` También especificaremos una \n",
    "menor cantidad de variables posibles, por ejemplo: `k_features=(2,5). `"
   ]
  },
  {
   "cell_type": "code",
   "execution_count": 535,
   "id": "add3ee38-4516-4412-a6bc-5341856f7da1",
   "metadata": {},
   "outputs": [
    {
     "name": "stdout",
     "output_type": "stream",
     "text": [
      "Variables selecionadas: \n",
      " ['acidezVolatil', 'cloruros', 'dioxidoAzufreTotal', 'sulfatos', 'alcohol']\n"
     ]
    }
   ],
   "source": [
    "\n",
    "model1 = LinearRegression()\n",
    "\n",
    "sfs1 = SFS(model, k_features= (2,5), forward=False, scoring= 'r2', cv = 10 )\n",
    "#Ejecutamos el selector \n",
    "sfs1.fit(x_trainF,y_train)\n",
    "\n",
    "\n",
    "features1 = list(sfs1.k_feature_names_)\n",
    "print(\"Variables selecionadas: \\n\", features1)\n"
   ]
  },
  {
   "cell_type": "markdown",
   "id": "7a332372-b211-4322-8bdc-24c606935a8c",
   "metadata": {},
   "source": [
    "6. Repetimos el paso 4, pero para un modelo que contenga solamente las variables \n",
    "seleccionadas en el paso 5.<br> Imprimo en pantalla un breve texto que describa mi opinión \n",
    "sobre la diferencia en R cuadrada medida entre los modelos de los pasos 4 y 6 respondiendo a las preguntas,<br> **¿cuál \n",
    "modelo consideras que es mejor? ¿Por qué?** "
   ]
  },
  {
   "cell_type": "code",
   "execution_count": 537,
   "id": "a84da81e-6b4e-45f4-80fa-f5ac918f9bce",
   "metadata": {},
   "outputs": [
    {
     "name": "stdout",
     "output_type": "stream",
     "text": [
      "R^2 de la selección hacia atrás = 0.36673629131103824\n",
      "\n",
      "Comparación de R cuadrada entre los modelos:  \n",
      "\n",
      "Modelo hacia adelante: 0.3774037891991848\n",
      " \n",
      "Modelo hacia atrás: 0.36673629131103824\n",
      " \n",
      "El modelo con selección hacia adelante tiene mejor capacidad predictiva.  \n",
      "\n"
     ]
    }
   ],
   "source": [
    "x_trainB = x_train[features1]\n",
    "x_testB = x_test[features1]\n",
    "\n",
    "model1.fit(x_trainB,y_train)\n",
    "\n",
    "ypredict1 = model1.predict(x_testB)\n",
    "\n",
    "r2_backward = r2_score(y_test,ypredict1)\n",
    "print(\"R^2 de la selección hacia atrás =\", r2_backward)\n",
    "\n",
    "\n",
    "\n",
    "# Comparación entre ambos modelos\n",
    "print(\"\\nComparación de R cuadrada entre los modelos:\", \" \\n\")\n",
    "print(f\"Modelo hacia adelante: {r2_forward}\")\n",
    "print(\" \")\n",
    "print(f\"Modelo hacia atrás: {r2_backward}\")\n",
    "print(\" \")\n",
    "\n",
    "if r2_forward > r2_backward:\n",
    "    print(\"El modelo con selección hacia adelante tiene mejor capacidad predictiva.\", \" \\n\")\n",
    "elif r2_forward < r2_backward:\n",
    "    print(\"El modelo con selección hacia atrás tiene mejor capacidad predictiva.\\n\")\n",
    "else:\n",
    "    print(\"Ambos modelos tienen la misma capacidad predictiva.\\n\")"
   ]
  },
  {
   "cell_type": "markdown",
   "id": "4c1de9c0-e8f3-49aa-ad5d-46b0e75cccae",
   "metadata": {},
   "source": [
    "Considero que es mejor el modelo hacia adelante debido a que su R^2 es mayor al del modelo hacia atrás. Al quitar variables, el R^2 no aumentó, lo que indica que las variables eliminadas no eran significativas para la predicción. En caso de que el modelo hacia atrás, con menos variables, hubiera tenido un mejor R^2, entonces habría sido la mejor opción porque se logró reducir a un modelo que contiene las variables con mayor correlación."
   ]
  },
  {
   "cell_type": "markdown",
   "id": "ff389298-a0fd-4d0d-a9ab-adc7478fffc9",
   "metadata": {},
   "source": [
    "**Firma de honor** :  Doy mi palabra que he realizado esta actividad con integridad académica"
   ]
  }
 ],
 "metadata": {
  "kernelspec": {
   "display_name": "Python [conda env:base] *",
   "language": "python",
   "name": "conda-base-py"
  },
  "language_info": {
   "codemirror_mode": {
    "name": "ipython",
    "version": 3
   },
   "file_extension": ".py",
   "mimetype": "text/x-python",
   "name": "python",
   "nbconvert_exporter": "python",
   "pygments_lexer": "ipython3",
   "version": "3.12.7"
  }
 },
 "nbformat": 4,
 "nbformat_minor": 5
}
